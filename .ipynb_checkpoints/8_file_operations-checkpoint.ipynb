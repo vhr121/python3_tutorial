{
 "cells": [
  {
   "cell_type": "markdown",
   "metadata": {},
   "source": [
    "<h3>File operations in python</h3>"
   ]
  },
  {
   "cell_type": "markdown",
   "metadata": {},
   "source": [
    "Opening a file\n",
    "with open('filename','mode') as file:\n",
    "    file.read() #reads the entire doc\n",
    "    file.readline() # read only one line\n",
    "    file.readlines() # reads line by line in form of list"
   ]
  },
  {
   "cell_type": "code",
   "execution_count": 4,
   "metadata": {},
   "outputs": [
    {
     "name": "stdout",
     "output_type": "stream",
     "text": [
      "Hi how are you??\n",
      "\n",
      "\n",
      "\n",
      "Hope you are doing good\n",
      "\n",
      "bye\n"
     ]
    }
   ],
   "source": [
    "with open('data.txt','r+') as file:\n",
    "    for i in file:\n",
    "        print(i)"
   ]
  },
  {
   "cell_type": "code",
   "execution_count": 5,
   "metadata": {},
   "outputs": [
    {
     "name": "stdout",
     "output_type": "stream",
     "text": [
      "Hi how are you??\n",
      "\n",
      "Hope you are doing good\n",
      "bye\n"
     ]
    }
   ],
   "source": [
    "with open('data.txt','r+') as file: #readsing the whole file\n",
    "    print(file.read())\n",
    "    "
   ]
  },
  {
   "cell_type": "code",
   "execution_count": 7,
   "metadata": {},
   "outputs": [
    {
     "name": "stdout",
     "output_type": "stream",
     "text": [
      "Hi how are you??\n",
      "\n"
     ]
    }
   ],
   "source": [
    "with open('data.txt','r+') as fp:#Reading one line\n",
    "    print(fp.readline())"
   ]
  },
  {
   "cell_type": "code",
   "execution_count": 9,
   "metadata": {},
   "outputs": [
    {
     "name": "stdout",
     "output_type": "stream",
     "text": [
      "['Hi how are you??\\n', '\\n', 'Hope you are doing good\\n', 'bye']\n"
     ]
    }
   ],
   "source": [
    "with open('data.txt','r+') as fp: #Reading the whole file line by line using readlines()\n",
    "    print(fp.readlines())"
   ]
  },
  {
   "cell_type": "code",
   "execution_count": null,
   "metadata": {
    "collapsed": true
   },
   "outputs": [],
   "source": []
  }
 ],
 "metadata": {
  "kernelspec": {
   "display_name": "Python 3",
   "language": "python",
   "name": "python3"
  },
  "language_info": {
   "codemirror_mode": {
    "name": "ipython",
    "version": 3
   },
   "file_extension": ".py",
   "mimetype": "text/x-python",
   "name": "python",
   "nbconvert_exporter": "python",
   "pygments_lexer": "ipython3",
   "version": "3.5.2"
  }
 },
 "nbformat": 4,
 "nbformat_minor": 2
}

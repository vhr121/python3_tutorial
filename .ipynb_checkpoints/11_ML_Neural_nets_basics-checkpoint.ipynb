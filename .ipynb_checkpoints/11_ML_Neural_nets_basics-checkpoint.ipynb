{
 "cells": [
  {
   "cell_type": "markdown",
   "metadata": {},
   "source": [
    "<h4>Deep Neural Networks:</h4>\n",
    "\n",
    "\n",
    "1. The input in form of features is fed to the networks\n",
    "\n",
    "2. Each of the feature is a node (for Ex: in a picture of 24*24 each pixel is a node, so we have 576 input nodes)\n",
    "(for a iris example height and colour are features so it has 2 input nodes)\n",
    "\n",
    "3. The input value for each feature is multiplied by a random weight in the first iteration and each of this product for each feaure is added up(summation of x*w) and a suitable biaz is added to shift the value accordingly.(y=mx+c)\n",
    "\n",
    "4. Now this value is fed to suitable activation function like (tanhx, sigmoid, ReLU) to get the output.\n",
    "\n",
    "5. From the output the error is calculated using (mean square error, cross entropy).\n",
    "\n",
    "6. The new weight is found with the help of gradient descent technique.\n",
    "\n",
    "This techniques is repeated for the number of epochs mentioned\n",
    "\n",
    "\n",
    "\n",
    "<h4>Machine Learning Libraries:</h4>\n",
    "\n",
    "1. Tensorflow :developed by google, has good documentation and supports GPU version also.\n",
    "\n",
    "2. Theano: Easy to use interface\n",
    "\n",
    "3. Keras: Supports Tensorflow, Theano and Microsofts cognitive toolkit at the backend\n",
    "\n",
    "4. Caffe: Initial developed production ready library.\n",
    "\n",
    "5. Pytorch: python library of torch\n",
    "\n",
    "\n",
    "\n"
   ]
  },
  {
   "cell_type": "code",
   "execution_count": null,
   "metadata": {
    "collapsed": true
   },
   "outputs": [],
   "source": []
  }
 ],
 "metadata": {
  "kernelspec": {
   "display_name": "Python 3",
   "language": "python",
   "name": "python3"
  },
  "language_info": {
   "codemirror_mode": {
    "name": "ipython",
    "version": 3
   },
   "file_extension": ".py",
   "mimetype": "text/x-python",
   "name": "python",
   "nbconvert_exporter": "python",
   "pygments_lexer": "ipython3",
   "version": "3.5.2"
  }
 },
 "nbformat": 4,
 "nbformat_minor": 2
}

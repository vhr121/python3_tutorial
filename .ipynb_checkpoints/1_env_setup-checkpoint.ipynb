{
 "cells": [
  {
   "cell_type": "markdown",
   "metadata": {},
   "source": [
    "# Environmnet Setup"
   ]
  },
  {
   "cell_type": "markdown",
   "metadata": {},
   "source": [
    "Environment provieds a wondeful way to containerise all the dependencies(for a project) in a single environment. <br>\n",
    "\n",
    "1. In this way we need not worry about dependency clashes between various programs.\n",
    "2. Easy to port as we can just give the environemnt details to the other machine to install and run.\n",
    "3. Moreover it is easier to manage the code when we have environments.\n",
    "\n",
    "There are various utilities to manage the environment. My personal favourites being\n",
    "<ol><b><li> pipenv</li></b>\n",
    "<b><li> Anaconda </b></li></ol>"
   ]
  },
  {
   "cell_type": "markdown",
   "metadata": {},
   "source": [
    "<h3>1. Creating an environment using pipenv</h3>"
   ]
  },
  {
   "cell_type": "markdown",
   "metadata": {},
   "source": [
    "<h4>Make sure to install pipenv on your machine (please google it on how to !!)</h4>"
   ]
  },
  {
   "cell_type": "markdown",
   "metadata": {},
   "source": [
    "<ol><li> Create a project direcory and within that directory, Use \n",
    "\n",
    "$ pipenv install --version(python two/three)\n",
    "\n",
    "to create an environment, here the version specifies the python version</li>\n",
    "\n",
    "<em>Ex: $ pipenv install --two </em>\n",
    "\n",
    "<li> $ pipenv shell  (to activate the environemnt)</li>\n",
    "\n",
    "<li> $ easy_install package_name (to install the specific packages from the Python Package Index(pypi))</li>\n",
    "\n",
    "<em>Ex: $ easy_install django</li>\n",
    "\n",
    "<ol>\n",
    "\n",
    "\n"
   ]
  },
  {
   "cell_type": "markdown",
   "metadata": {},
   "source": [
    "<h3>2.Creating an environemnt using Anaconda<h3>"
   ]
  },
  {
   "cell_type": "markdown",
   "metadata": {},
   "source": [
    "<h5>Install Anaconda environment manager on your machine (Google it on how to install! XD)</h5>"
   ]
  },
  {
   "cell_type": "raw",
   "metadata": {},
   "source": [
    "\n",
    "     1. Create an environment named my_env using \n",
    "         $conda create -n my_env \n",
    "     2.Now use this environment by activating it \n",
    "         $ source activate my_env\n",
    "     3. Now install all the necessary packages in this environment using  \n",
    "         $ conda install package_name\n",
    "\n"
   ]
  },
  {
   "cell_type": "markdown",
   "metadata": {},
   "source": [
    "Please go through this link for more info<a href=\"https://github.com/NeuronQ/cookbook/wiki/Python-Conda-cheatsheet\">https://github.com/NeuronQ/cookbook/wiki/Python-Conda-cheatsheet</a>"
   ]
  },
  {
   "cell_type": "code",
   "execution_count": null,
   "metadata": {
    "collapsed": true
   },
   "outputs": [],
   "source": []
  }
 ],
 "metadata": {
  "kernelspec": {
   "display_name": "Python 3",
   "language": "python",
   "name": "python3"
  },
  "language_info": {
   "codemirror_mode": {
    "name": "ipython",
    "version": 3
   },
   "file_extension": ".py",
   "mimetype": "text/x-python",
   "name": "python",
   "nbconvert_exporter": "python",
   "pygments_lexer": "ipython3",
   "version": "3.5.2"
  }
 },
 "nbformat": 4,
 "nbformat_minor": 2
}
